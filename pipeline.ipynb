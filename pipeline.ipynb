{
 "cells": [
  {
   "cell_type": "code",
   "execution_count": 122,
   "metadata": {},
   "outputs": [],
   "source": [
    "import requests\n",
    "from bs4 import BeautifulSoup\n",
    "import re"
   ]
  },
  {
   "cell_type": "code",
   "execution_count": 126,
   "metadata": {},
   "outputs": [],
   "source": [
    "class fetch_interests:\n",
    "    def __init__(self, file_name, url):\n",
    "        self.file_name = file_name\n",
    "        self.url = url\n",
    "\n",
    "    @classmethod\n",
    "    def extract_pdfs(cls, url='https://www.aph.gov.au/Senators_and_Members/Members/Register'):\n",
    "        response = requests.get(url)\n",
    "        soup = BeautifulSoup(response.content, 'html.parser')\n",
    "        pdfs = []\n",
    "        for url in soup.findAll('a', href=True):\n",
    "            if url.img is not None and url.img['alt'] == 'PDF format':\n",
    "                current_url = 'https://www.aph.gov.au' + url['href']\n",
    "                file_name = re.search('(.*?)\\.pdf', url['href'].split('/')[8])[0]\n",
    "                pdfs.append(cls(file_name, current_url))\n",
    "\n",
    "        return pdfs  \n",
    "\n",
    "    def export_pdfs(pdfs):\n",
    "        for pdf in pdfs:\n",
    "            response = requests.get(pdf.url)\n",
    "            file = open(f\"datahub/raw/{pdf.file_name}\", 'wb')\n",
    "            file.write(response.content)\n",
    "            file.close()\n",
    "\n",
    "    def __repr__(self):\n",
    "        return self.file_name   "
   ]
  },
  {
   "cell_type": "code",
   "execution_count": 127,
   "metadata": {},
   "outputs": [],
   "source": [
    "pdfs = fetch_interests.extract_pdfs()"
   ]
  },
  {
   "cell_type": "code",
   "execution_count": 128,
   "metadata": {},
   "outputs": [],
   "source": [
    "fetch_interests.export_pdfs(pdfs)"
   ]
  }
 ],
 "metadata": {
  "interpreter": {
   "hash": "29073a799d37a0210fe063b3ac56bd6f8a9b854f667cdd38297a4ba739ac1c43"
  },
  "kernelspec": {
   "display_name": "Python 3.8.12 64-bit ('project1': conda)",
   "language": "python",
   "name": "python3"
  },
  "language_info": {
   "codemirror_mode": {
    "name": "ipython",
    "version": 3
   },
   "file_extension": ".py",
   "mimetype": "text/x-python",
   "name": "python",
   "nbconvert_exporter": "python",
   "pygments_lexer": "ipython3",
   "version": "3.10.1"
  },
  "orig_nbformat": 4
 },
 "nbformat": 4,
 "nbformat_minor": 2
}
